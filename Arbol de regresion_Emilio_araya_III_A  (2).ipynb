{
 "cells": [
  {
   "cell_type": "code",
   "execution_count": 1,
   "id": "0ca184e4",
   "metadata": {},
   "outputs": [],
   "source": [
    "import pandas as pd"
   ]
  },
  {
   "cell_type": "code",
   "execution_count": 36,
   "id": "a26f1d62",
   "metadata": {},
   "outputs": [
    {
     "data": {
      "text/html": [
       "<div>\n",
       "<style scoped>\n",
       "    .dataframe tbody tr th:only-of-type {\n",
       "        vertical-align: middle;\n",
       "    }\n",
       "\n",
       "    .dataframe tbody tr th {\n",
       "        vertical-align: top;\n",
       "    }\n",
       "\n",
       "    .dataframe thead th {\n",
       "        text-align: right;\n",
       "    }\n",
       "</style>\n",
       "<table border=\"1\" class=\"dataframe\">\n",
       "  <thead>\n",
       "    <tr style=\"text-align: right;\">\n",
       "      <th></th>\n",
       "      <th>sales</th>\n",
       "      <th>dollar volume</th>\n",
       "      <th>average price</th>\n",
       "      <th>median price</th>\n",
       "      <th>Total listings</th>\n",
       "      <th>Months inventory</th>\n",
       "    </tr>\n",
       "  </thead>\n",
       "  <tbody>\n",
       "    <tr>\n",
       "      <th>0</th>\n",
       "      <td>25.187</td>\n",
       "      <td>9,438,420,246</td>\n",
       "      <td>374.734</td>\n",
       "      <td>313.187</td>\n",
       "      <td>38.784</td>\n",
       "      <td>1.1</td>\n",
       "    </tr>\n",
       "    <tr>\n",
       "      <th>1</th>\n",
       "      <td>27.464</td>\n",
       "      <td>10,682,058,380</td>\n",
       "      <td>388.948</td>\n",
       "      <td>325.000</td>\n",
       "      <td>36.535</td>\n",
       "      <td>1.0</td>\n",
       "    </tr>\n",
       "    <tr>\n",
       "      <th>2</th>\n",
       "      <td>35.468</td>\n",
       "      <td>14,448,748,835</td>\n",
       "      <td>407.374</td>\n",
       "      <td>335.000</td>\n",
       "      <td>37.831</td>\n",
       "      <td>1.1</td>\n",
       "    </tr>\n",
       "    <tr>\n",
       "      <th>3</th>\n",
       "      <td>34.127</td>\n",
       "      <td>14,690,152,152</td>\n",
       "      <td>430.455</td>\n",
       "      <td>349.900</td>\n",
       "      <td>44.090</td>\n",
       "      <td>1.3</td>\n",
       "    </tr>\n",
       "    <tr>\n",
       "      <th>4</th>\n",
       "      <td>36.831</td>\n",
       "      <td>16,315,572,852</td>\n",
       "      <td>442.985</td>\n",
       "      <td>360.000</td>\n",
       "      <td>52.838</td>\n",
       "      <td>1.5</td>\n",
       "    </tr>\n",
       "    <tr>\n",
       "      <th>5</th>\n",
       "      <td>37.521</td>\n",
       "      <td>16,434,280,482</td>\n",
       "      <td>438.002</td>\n",
       "      <td>360.000</td>\n",
       "      <td>70.097</td>\n",
       "      <td>2.0</td>\n",
       "    </tr>\n",
       "    <tr>\n",
       "      <th>6</th>\n",
       "      <td>32.704</td>\n",
       "      <td>13,793,984,917</td>\n",
       "      <td>421.783</td>\n",
       "      <td>350.000</td>\n",
       "      <td>82.598</td>\n",
       "      <td>2.4</td>\n",
       "    </tr>\n",
       "    <tr>\n",
       "      <th>7</th>\n",
       "      <td>33.990</td>\n",
       "      <td>14,115,199,102</td>\n",
       "      <td>415.275</td>\n",
       "      <td>344.900</td>\n",
       "      <td>85.535</td>\n",
       "      <td>2.5</td>\n",
       "    </tr>\n",
       "    <tr>\n",
       "      <th>8</th>\n",
       "      <td>31.017</td>\n",
       "      <td>12,775,800,418</td>\n",
       "      <td>411.897</td>\n",
       "      <td>343.168</td>\n",
       "      <td>90.198</td>\n",
       "      <td>2.7</td>\n",
       "    </tr>\n",
       "  </tbody>\n",
       "</table>\n",
       "</div>"
      ],
      "text/plain": [
       "    sales   dollar volume  average price  median price  Total listings  \\\n",
       "0  25.187   9,438,420,246        374.734       313.187          38.784   \n",
       "1  27.464  10,682,058,380        388.948       325.000          36.535   \n",
       "2  35.468  14,448,748,835        407.374       335.000          37.831   \n",
       "3  34.127  14,690,152,152        430.455       349.900          44.090   \n",
       "4  36.831  16,315,572,852        442.985       360.000          52.838   \n",
       "5  37.521  16,434,280,482        438.002       360.000          70.097   \n",
       "6  32.704  13,793,984,917        421.783       350.000          82.598   \n",
       "7  33.990  14,115,199,102        415.275       344.900          85.535   \n",
       "8  31.017  12,775,800,418        411.897       343.168          90.198   \n",
       "\n",
       "   Months inventory  \n",
       "0               1.1  \n",
       "1               1.0  \n",
       "2               1.1  \n",
       "3               1.3  \n",
       "4               1.5  \n",
       "5               2.0  \n",
       "6               2.4  \n",
       "7               2.5  \n",
       "8               2.7  "
      ]
     },
     "execution_count": 36,
     "metadata": {},
     "output_type": "execute_result"
    }
   ],
   "source": [
    "data = pd.read_excel(\"Libro1.xlsx\")\n",
    "data\n",
    "#Este data set consiste en las ventas de casas en Texas Estados unidos en 2022, especificamente enero 2022 hasta agosto 2022\n",
    "#Las columnas solo sales(ventas en total), dollar vollume(volumen del dollar), average price(precio promedio de las casas), median price(la mediana del precio de las casas), total listing(cantidad de casas en el mercado)."
   ]
  },
  {
   "cell_type": "code",
   "execution_count": 35,
   "id": "5e8435ad",
   "metadata": {},
   "outputs": [
    {
     "data": {
      "text/plain": [
       "(9, 6)"
      ]
     },
     "execution_count": 35,
     "metadata": {},
     "output_type": "execute_result"
    }
   ],
   "source": [
    "data.shape"
   ]
  },
  {
   "cell_type": "markdown",
   "id": "7ccb9df9",
   "metadata": {},
   "source": [
    "callnames= data.columns.values.tolist()\n",
    "predictors= callnames[2:6]"
   ]
  },
  {
   "cell_type": "code",
   "execution_count": 23,
   "id": "a4bbf8d1",
   "metadata": {},
   "outputs": [
    {
     "data": {
      "text/plain": [
       "['average price', 'median price', 'Total listings', 'Months inventory']"
      ]
     },
     "execution_count": 23,
     "metadata": {},
     "output_type": "execute_result"
    }
   ],
   "source": [
    "predictors"
   ]
  },
  {
   "cell_type": "code",
   "execution_count": 24,
   "id": "0879fa0a",
   "metadata": {},
   "outputs": [
    {
     "data": {
      "text/plain": [
       "'sales'"
      ]
     },
     "execution_count": 24,
     "metadata": {},
     "output_type": "execute_result"
    }
   ],
   "source": [
    "target=callnames[0]\n",
    "target"
   ]
  },
  {
   "cell_type": "code",
   "execution_count": 25,
   "id": "bf1d7d63",
   "metadata": {},
   "outputs": [],
   "source": [
    "x = data[predictors]\n",
    "y = data[target]"
   ]
  },
  {
   "cell_type": "code",
   "execution_count": 26,
   "id": "ea56e16f",
   "metadata": {},
   "outputs": [],
   "source": [
    "from sklearn.tree import DecisionTreeRegressor"
   ]
  },
  {
   "cell_type": "code",
   "execution_count": 27,
   "id": "5506520a",
   "metadata": {},
   "outputs": [],
   "source": [
    "regtree = DecisionTreeRegressor(min_samples_split=30, min_samples_leaf=10, max_depth=5, random_state=0)"
   ]
  },
  {
   "cell_type": "code",
   "execution_count": 28,
   "id": "52bf08ee",
   "metadata": {},
   "outputs": [
    {
     "data": {
      "text/plain": [
       "DecisionTreeRegressor(max_depth=5, min_samples_leaf=10, min_samples_split=30,\n",
       "                      random_state=0)"
      ]
     },
     "execution_count": 28,
     "metadata": {},
     "output_type": "execute_result"
    }
   ],
   "source": [
    "regtree.fit(x,y)"
   ]
  },
  {
   "cell_type": "code",
   "execution_count": 29,
   "id": "4013e95f",
   "metadata": {},
   "outputs": [],
   "source": [
    "preds = regtree.predict(data[predictors])"
   ]
  },
  {
   "cell_type": "code",
   "execution_count": 30,
   "id": "f07f9722",
   "metadata": {},
   "outputs": [],
   "source": [
    "data[\"preds\"] = preds"
   ]
  },
  {
   "cell_type": "code",
   "execution_count": 31,
   "id": "1149bd08",
   "metadata": {},
   "outputs": [
    {
     "data": {
      "text/html": [
       "<div>\n",
       "<style scoped>\n",
       "    .dataframe tbody tr th:only-of-type {\n",
       "        vertical-align: middle;\n",
       "    }\n",
       "\n",
       "    .dataframe tbody tr th {\n",
       "        vertical-align: top;\n",
       "    }\n",
       "\n",
       "    .dataframe thead th {\n",
       "        text-align: right;\n",
       "    }\n",
       "</style>\n",
       "<table border=\"1\" class=\"dataframe\">\n",
       "  <thead>\n",
       "    <tr style=\"text-align: right;\">\n",
       "      <th></th>\n",
       "      <th>preds</th>\n",
       "      <th>sales</th>\n",
       "    </tr>\n",
       "  </thead>\n",
       "  <tbody>\n",
       "    <tr>\n",
       "      <th>0</th>\n",
       "      <td>32.701</td>\n",
       "      <td>25.187</td>\n",
       "    </tr>\n",
       "    <tr>\n",
       "      <th>1</th>\n",
       "      <td>32.701</td>\n",
       "      <td>27.464</td>\n",
       "    </tr>\n",
       "    <tr>\n",
       "      <th>2</th>\n",
       "      <td>32.701</td>\n",
       "      <td>35.468</td>\n",
       "    </tr>\n",
       "    <tr>\n",
       "      <th>3</th>\n",
       "      <td>32.701</td>\n",
       "      <td>34.127</td>\n",
       "    </tr>\n",
       "    <tr>\n",
       "      <th>4</th>\n",
       "      <td>32.701</td>\n",
       "      <td>36.831</td>\n",
       "    </tr>\n",
       "    <tr>\n",
       "      <th>5</th>\n",
       "      <td>32.701</td>\n",
       "      <td>37.521</td>\n",
       "    </tr>\n",
       "    <tr>\n",
       "      <th>6</th>\n",
       "      <td>32.701</td>\n",
       "      <td>32.704</td>\n",
       "    </tr>\n",
       "    <tr>\n",
       "      <th>7</th>\n",
       "      <td>32.701</td>\n",
       "      <td>33.990</td>\n",
       "    </tr>\n",
       "    <tr>\n",
       "      <th>8</th>\n",
       "      <td>32.701</td>\n",
       "      <td>31.017</td>\n",
       "    </tr>\n",
       "  </tbody>\n",
       "</table>\n",
       "</div>"
      ],
      "text/plain": [
       "    preds   sales\n",
       "0  32.701  25.187\n",
       "1  32.701  27.464\n",
       "2  32.701  35.468\n",
       "3  32.701  34.127\n",
       "4  32.701  36.831\n",
       "5  32.701  37.521\n",
       "6  32.701  32.704\n",
       "7  32.701  33.990\n",
       "8  32.701  31.017"
      ]
     },
     "execution_count": 31,
     "metadata": {},
     "output_type": "execute_result"
    }
   ],
   "source": [
    "data[[\"preds\", \"sales\"]]"
   ]
  },
  {
   "cell_type": "markdown",
   "id": "53275dd0",
   "metadata": {},
   "source": [
    "#La prediccion es un numero constante que se acerca a las ventas reales por lo cual podemos dar la prediccion como buena ya que se acerca a los valores reales"
   ]
  },
  {
   "cell_type": "code",
   "execution_count": null,
   "id": "527efcad",
   "metadata": {},
   "outputs": [],
   "source": []
  }
 ],
 "metadata": {
  "kernelspec": {
   "display_name": "Python 3 (ipykernel)",
   "language": "python",
   "name": "python3"
  },
  "language_info": {
   "codemirror_mode": {
    "name": "ipython",
    "version": 3
   },
   "file_extension": ".py",
   "mimetype": "text/x-python",
   "name": "python",
   "nbconvert_exporter": "python",
   "pygments_lexer": "ipython3",
   "version": "3.9.12"
  }
 },
 "nbformat": 4,
 "nbformat_minor": 5
}
