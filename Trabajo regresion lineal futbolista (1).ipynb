{
 "cells": [
  {
   "cell_type": "code",
   "execution_count": 40,
   "id": "73546cbe",
   "metadata": {},
   "outputs": [],
   "source": [
    "import numpy as np\n",
    "import pandas as pd\n",
    "import matplotlib.pyplot as plt\n",
    "import statsmodels.formula.api as smf\n",
    "from sklearn.linear_model import LinearRegression"
   ]
  },
  {
   "cell_type": "code",
   "execution_count": 2,
   "id": "cdd5b22d",
   "metadata": {},
   "outputs": [],
   "source": [
    "dt=pd.read_excel(\"Libro1.xlsx\")"
   ]
  },
  {
   "cell_type": "code",
   "execution_count": 5,
   "id": "23eacbcc",
   "metadata": {},
   "outputs": [
    {
     "data": {
      "text/html": [
       "<div>\n",
       "<style scoped>\n",
       "    .dataframe tbody tr th:only-of-type {\n",
       "        vertical-align: middle;\n",
       "    }\n",
       "\n",
       "    .dataframe tbody tr th {\n",
       "        vertical-align: top;\n",
       "    }\n",
       "\n",
       "    .dataframe thead th {\n",
       "        text-align: right;\n",
       "    }\n",
       "</style>\n",
       "<table border=\"1\" class=\"dataframe\">\n",
       "  <thead>\n",
       "    <tr style=\"text-align: right;\">\n",
       "      <th></th>\n",
       "      <th>temporada</th>\n",
       "      <th>partidos</th>\n",
       "      <th>goles</th>\n",
       "      <th>golesac</th>\n",
       "      <th>partidosac</th>\n",
       "    </tr>\n",
       "  </thead>\n",
       "  <tbody>\n",
       "    <tr>\n",
       "      <th>0</th>\n",
       "      <td>2009</td>\n",
       "      <td>28</td>\n",
       "      <td>26</td>\n",
       "      <td>26</td>\n",
       "      <td>28</td>\n",
       "    </tr>\n",
       "    <tr>\n",
       "      <th>1</th>\n",
       "      <td>2010</td>\n",
       "      <td>32</td>\n",
       "      <td>40</td>\n",
       "      <td>66</td>\n",
       "      <td>60</td>\n",
       "    </tr>\n",
       "    <tr>\n",
       "      <th>2</th>\n",
       "      <td>2011</td>\n",
       "      <td>37</td>\n",
       "      <td>46</td>\n",
       "      <td>112</td>\n",
       "      <td>97</td>\n",
       "    </tr>\n",
       "    <tr>\n",
       "      <th>3</th>\n",
       "      <td>2012</td>\n",
       "      <td>30</td>\n",
       "      <td>34</td>\n",
       "      <td>146</td>\n",
       "      <td>127</td>\n",
       "    </tr>\n",
       "    <tr>\n",
       "      <th>4</th>\n",
       "      <td>2013</td>\n",
       "      <td>30</td>\n",
       "      <td>31</td>\n",
       "      <td>177</td>\n",
       "      <td>157</td>\n",
       "    </tr>\n",
       "  </tbody>\n",
       "</table>\n",
       "</div>"
      ],
      "text/plain": [
       "   temporada  partidos  goles  golesac  partidosac\n",
       "0       2009        28     26       26          28\n",
       "1       2010        32     40       66          60\n",
       "2       2011        37     46      112          97\n",
       "3       2012        30     34      146         127\n",
       "4       2013        30     31      177         157"
      ]
     },
     "execution_count": 5,
     "metadata": {},
     "output_type": "execute_result"
    }
   ],
   "source": [
    "dt.head()#ac=acomulados"
   ]
  },
  {
   "cell_type": "code",
   "execution_count": 41,
   "id": "c9088e47",
   "metadata": {},
   "outputs": [
    {
     "data": {
      "text/html": [
       "<div>\n",
       "<style scoped>\n",
       "    .dataframe tbody tr th:only-of-type {\n",
       "        vertical-align: middle;\n",
       "    }\n",
       "\n",
       "    .dataframe tbody tr th {\n",
       "        vertical-align: top;\n",
       "    }\n",
       "\n",
       "    .dataframe thead th {\n",
       "        text-align: right;\n",
       "    }\n",
       "</style>\n",
       "<table border=\"1\" class=\"dataframe\">\n",
       "  <thead>\n",
       "    <tr style=\"text-align: right;\">\n",
       "      <th></th>\n",
       "      <th>temporada</th>\n",
       "      <th>partidos</th>\n",
       "      <th>goles</th>\n",
       "      <th>golesac</th>\n",
       "      <th>partidosac</th>\n",
       "    </tr>\n",
       "  </thead>\n",
       "  <tbody>\n",
       "    <tr>\n",
       "      <th>count</th>\n",
       "      <td>9.000000</td>\n",
       "      <td>9.000000</td>\n",
       "      <td>9.000000</td>\n",
       "      <td>9.000000</td>\n",
       "      <td>9.000000</td>\n",
       "    </tr>\n",
       "    <tr>\n",
       "      <th>mean</th>\n",
       "      <td>2013.000000</td>\n",
       "      <td>31.555556</td>\n",
       "      <td>34.555556</td>\n",
       "      <td>178.666667</td>\n",
       "      <td>158.888889</td>\n",
       "    </tr>\n",
       "    <tr>\n",
       "      <th>std</th>\n",
       "      <td>2.738613</td>\n",
       "      <td>3.643869</td>\n",
       "      <td>8.603940</td>\n",
       "      <td>99.433395</td>\n",
       "      <td>88.679824</td>\n",
       "    </tr>\n",
       "    <tr>\n",
       "      <th>min</th>\n",
       "      <td>2009.000000</td>\n",
       "      <td>27.000000</td>\n",
       "      <td>25.000000</td>\n",
       "      <td>26.000000</td>\n",
       "      <td>28.000000</td>\n",
       "    </tr>\n",
       "    <tr>\n",
       "      <th>25%</th>\n",
       "      <td>2011.000000</td>\n",
       "      <td>29.000000</td>\n",
       "      <td>26.000000</td>\n",
       "      <td>112.000000</td>\n",
       "      <td>97.000000</td>\n",
       "    </tr>\n",
       "    <tr>\n",
       "      <th>50%</th>\n",
       "      <td>2013.000000</td>\n",
       "      <td>30.000000</td>\n",
       "      <td>34.000000</td>\n",
       "      <td>177.000000</td>\n",
       "      <td>157.000000</td>\n",
       "    </tr>\n",
       "    <tr>\n",
       "      <th>75%</th>\n",
       "      <td>2015.000000</td>\n",
       "      <td>35.000000</td>\n",
       "      <td>40.000000</td>\n",
       "      <td>260.000000</td>\n",
       "      <td>228.000000</td>\n",
       "    </tr>\n",
       "    <tr>\n",
       "      <th>max</th>\n",
       "      <td>2017.000000</td>\n",
       "      <td>37.000000</td>\n",
       "      <td>48.000000</td>\n",
       "      <td>311.000000</td>\n",
       "      <td>284.000000</td>\n",
       "    </tr>\n",
       "  </tbody>\n",
       "</table>\n",
       "</div>"
      ],
      "text/plain": [
       "         temporada   partidos      goles     golesac  partidosac\n",
       "count     9.000000   9.000000   9.000000    9.000000    9.000000\n",
       "mean   2013.000000  31.555556  34.555556  178.666667  158.888889\n",
       "std       2.738613   3.643869   8.603940   99.433395   88.679824\n",
       "min    2009.000000  27.000000  25.000000   26.000000   28.000000\n",
       "25%    2011.000000  29.000000  26.000000  112.000000   97.000000\n",
       "50%    2013.000000  30.000000  34.000000  177.000000  157.000000\n",
       "75%    2015.000000  35.000000  40.000000  260.000000  228.000000\n",
       "max    2017.000000  37.000000  48.000000  311.000000  284.000000"
      ]
     },
     "execution_count": 41,
     "metadata": {},
     "output_type": "execute_result"
    }
   ],
   "source": [
    "dt.describe() #datos estadisticos"
   ]
  },
  {
   "cell_type": "code",
   "execution_count": 54,
   "id": "e6c3d983",
   "metadata": {},
   "outputs": [
    {
     "name": "stdout",
     "output_type": "stream",
     "text": [
      "<class 'pandas.core.frame.DataFrame'>\n",
      "RangeIndex: 9 entries, 0 to 8\n",
      "Data columns (total 6 columns):\n",
      " #   Column      Non-Null Count  Dtype  \n",
      "---  ------      --------------  -----  \n",
      " 0   temporada   9 non-null      int64  \n",
      " 1   partidos    9 non-null      int64  \n",
      " 2   goles       9 non-null      int64  \n",
      " 3   golesac     9 non-null      int64  \n",
      " 4   partidosac  9 non-null      int64  \n",
      " 5   prediccion  9 non-null      float64\n",
      "dtypes: float64(1), int64(5)\n",
      "memory usage: 560.0 bytes\n"
     ]
    }
   ],
   "source": [
    "dt.info() #informacion del data set"
   ]
  },
  {
   "cell_type": "code",
   "execution_count": 44,
   "id": "ab8ab8fb",
   "metadata": {},
   "outputs": [
    {
     "data": {
      "text/plain": [
       "<AxesSubplot:xlabel='partidosac', ylabel='golesac'>"
      ]
     },
     "execution_count": 44,
     "metadata": {},
     "output_type": "execute_result"
    },
    {
     "data": {
      "image/png": "[encoded data removed]",
      "text/plain": [
       "<Figure size 432x288 with 1 Axes>"
      ]
     },
     "metadata": {
      "needs_background": "light"
     },
     "output_type": "display_data"
    }
   ],
   "source": [
    "dt.plot.scatter(x=\"partidosac\", y=\"golesac\") #dispersion de datos en los valores partidosac y golesac"
   ]
  },
  {
   "cell_type": "code",
   "execution_count": 46,
   "id": "f8759221",
   "metadata": {},
   "outputs": [
    {
     "data": {
      "text/plain": [
       "LinearRegression()"
      ]
     },
     "execution_count": 46,
     "metadata": {},
     "output_type": "execute_result"
    }
   ],
   "source": [
    "reg = LinearRegression()\n",
    "reg.fit(dt[[\"partidosac\"]], dt[\"golesac\"])\n",
    "#regression lineal"
   ]
  },
  {
   "cell_type": "code",
   "execution_count": 47,
   "id": "2adba51d",
   "metadata": {},
   "outputs": [
    {
     "name": "stderr",
     "output_type": "stream",
     "text": [
      "D:\\agl\\Nueva carpeta\\lib\\site-packages\\sklearn\\base.py:450: UserWarning: X does not have valid feature names, but LinearRegression was fitted with feature names\n",
      "  warnings.warn(\n"
     ]
    },
    {
     "data": {
      "text/plain": [
       "array([224.69557907, 112.73335971])"
      ]
     },
     "execution_count": 47,
     "metadata": {},
     "output_type": "execute_result"
    }
   ],
   "source": [
    " reg.predict([[200],[100]]) #prediccion"
   ]
  },
  {
   "cell_type": "code",
   "execution_count": 49,
   "id": "190631a9",
   "metadata": {},
   "outputs": [
    {
     "data": {
      "text/plain": [
       "0     32.120562\n",
       "1     67.948472\n",
       "2    109.374493\n",
       "3    142.963159\n",
       "4    176.551825\n",
       "5    215.738602\n",
       "6    256.045000\n",
       "7    288.514044\n",
       "8    318.743843\n",
       "dtype: float64"
      ]
     },
     "execution_count": 49,
     "metadata": {},
     "output_type": "execute_result"
    }
   ],
   "source": [
    "pred = pd.Series(reg.predict(dt[[\"partidosac\"]]))\n",
    "pred "
   ]
  },
  {
   "cell_type": "code",
   "execution_count": 50,
   "id": "6ad8ca01",
   "metadata": {},
   "outputs": [
    {
     "data": {
      "text/html": [
       "<div>\n",
       "<style scoped>\n",
       "    .dataframe tbody tr th:only-of-type {\n",
       "        vertical-align: middle;\n",
       "    }\n",
       "\n",
       "    .dataframe tbody tr th {\n",
       "        vertical-align: top;\n",
       "    }\n",
       "\n",
       "    .dataframe thead th {\n",
       "        text-align: right;\n",
       "    }\n",
       "</style>\n",
       "<table border=\"1\" class=\"dataframe\">\n",
       "  <thead>\n",
       "    <tr style=\"text-align: right;\">\n",
       "      <th></th>\n",
       "      <th>temporada</th>\n",
       "      <th>partidos</th>\n",
       "      <th>goles</th>\n",
       "      <th>golesac</th>\n",
       "      <th>partidosac</th>\n",
       "      <th>prediccion</th>\n",
       "    </tr>\n",
       "  </thead>\n",
       "  <tbody>\n",
       "    <tr>\n",
       "      <th>0</th>\n",
       "      <td>2009</td>\n",
       "      <td>28</td>\n",
       "      <td>26</td>\n",
       "      <td>26</td>\n",
       "      <td>28</td>\n",
       "      <td>32.120562</td>\n",
       "    </tr>\n",
       "    <tr>\n",
       "      <th>1</th>\n",
       "      <td>2010</td>\n",
       "      <td>32</td>\n",
       "      <td>40</td>\n",
       "      <td>66</td>\n",
       "      <td>60</td>\n",
       "      <td>67.948472</td>\n",
       "    </tr>\n",
       "    <tr>\n",
       "      <th>2</th>\n",
       "      <td>2011</td>\n",
       "      <td>37</td>\n",
       "      <td>46</td>\n",
       "      <td>112</td>\n",
       "      <td>97</td>\n",
       "      <td>109.374493</td>\n",
       "    </tr>\n",
       "    <tr>\n",
       "      <th>3</th>\n",
       "      <td>2012</td>\n",
       "      <td>30</td>\n",
       "      <td>34</td>\n",
       "      <td>146</td>\n",
       "      <td>127</td>\n",
       "      <td>142.963159</td>\n",
       "    </tr>\n",
       "    <tr>\n",
       "      <th>4</th>\n",
       "      <td>2013</td>\n",
       "      <td>30</td>\n",
       "      <td>31</td>\n",
       "      <td>177</td>\n",
       "      <td>157</td>\n",
       "      <td>176.551825</td>\n",
       "    </tr>\n",
       "    <tr>\n",
       "      <th>5</th>\n",
       "      <td>2014</td>\n",
       "      <td>35</td>\n",
       "      <td>48</td>\n",
       "      <td>225</td>\n",
       "      <td>192</td>\n",
       "      <td>215.738602</td>\n",
       "    </tr>\n",
       "    <tr>\n",
       "      <th>6</th>\n",
       "      <td>2015</td>\n",
       "      <td>36</td>\n",
       "      <td>35</td>\n",
       "      <td>260</td>\n",
       "      <td>228</td>\n",
       "      <td>256.045000</td>\n",
       "    </tr>\n",
       "    <tr>\n",
       "      <th>7</th>\n",
       "      <td>2016</td>\n",
       "      <td>29</td>\n",
       "      <td>25</td>\n",
       "      <td>285</td>\n",
       "      <td>257</td>\n",
       "      <td>288.514044</td>\n",
       "    </tr>\n",
       "    <tr>\n",
       "      <th>8</th>\n",
       "      <td>2017</td>\n",
       "      <td>27</td>\n",
       "      <td>26</td>\n",
       "      <td>311</td>\n",
       "      <td>284</td>\n",
       "      <td>318.743843</td>\n",
       "    </tr>\n",
       "  </tbody>\n",
       "</table>\n",
       "</div>"
      ],
      "text/plain": [
       "   temporada  partidos  goles  golesac  partidosac  prediccion\n",
       "0       2009        28     26       26          28   32.120562\n",
       "1       2010        32     40       66          60   67.948472\n",
       "2       2011        37     46      112          97  109.374493\n",
       "3       2012        30     34      146         127  142.963159\n",
       "4       2013        30     31      177         157  176.551825\n",
       "5       2014        35     48      225         192  215.738602\n",
       "6       2015        36     35      260         228  256.045000\n",
       "7       2016        29     25      285         257  288.514044\n",
       "8       2017        27     26      311         284  318.743843"
      ]
     },
     "execution_count": 50,
     "metadata": {},
     "output_type": "execute_result"
    }
   ],
   "source": [
    "dt[\"prediccion\"] = pred #se agrega la predicción al data\n",
    "dt \n"
   ]
  },
  {
   "cell_type": "code",
   "execution_count": 51,
   "id": "8afa7fe5",
   "metadata": {},
   "outputs": [
    {
     "data": {
      "text/plain": [
       "<AxesSubplot:xlabel='partidosac', ylabel='golesac'>"
      ]
     },
     "execution_count": 51,
     "metadata": {},
     "output_type": "execute_result"
    },
    {
     "data": {
      "image/png": "[encoded data removed]",
      "text/plain": [
       "<Figure size 432x288 with 1 Axes>"
      ]
     },
     "metadata": {
      "needs_background": "light"
     },
     "output_type": "display_data"
    }
   ],
   "source": [
    "ax = dt.plot.line(x=\"partidosac\", y=\"prediccion\")\n",
    "dt.plot.scatter(x=\"partidosac\", y=\"golesac\", ax= ax, color=\"red\")\n",
    "#grafico prediccion lineal"
   ]
  },
  {
   "cell_type": "code",
   "execution_count": 53,
   "id": "dbf30766",
   "metadata": {},
   "outputs": [
    {
     "name": "stderr",
     "output_type": "stream",
     "text": [
      "D:\\agl\\Nueva carpeta\\lib\\site-packages\\scipy\\stats\\stats.py:1541: UserWarning: kurtosistest only valid for n>=20 ... continuing anyway, n=9\n",
      "  warnings.warn(\"kurtosistest only valid for n>=20 ... continuing \"\n"
     ]
    },
    {
     "data": {
      "text/html": [
       "<table class=\"simpletable\">\n",
       "<caption>OLS Regression Results</caption>\n",
       "<tr>\n",
       "  <th>Dep. Variable:</th>       <td>partidosac</td>    <th>  R-squared:         </th> <td>   0.997</td>\n",
       "</tr>\n",
       "<tr>\n",
       "  <th>Model:</th>                   <td>OLS</td>       <th>  Adj. R-squared:    </th> <td>   0.997</td>\n",
       "</tr>\n",
       "<tr>\n",
       "  <th>Method:</th>             <td>Least Squares</td>  <th>  F-statistic:       </th> <td>   2387.</td>\n",
       "</tr>\n",
       "<tr>\n",
       "  <th>Date:</th>             <td>Fri, 07 Oct 2022</td> <th>  Prob (F-statistic):</th> <td>3.94e-10</td>\n",
       "</tr>\n",
       "<tr>\n",
       "  <th>Time:</th>                 <td>18:31:30</td>     <th>  Log-Likelihood:    </th> <td> -26.350</td>\n",
       "</tr>\n",
       "<tr>\n",
       "  <th>No. Observations:</th>      <td>     9</td>      <th>  AIC:               </th> <td>   56.70</td>\n",
       "</tr>\n",
       "<tr>\n",
       "  <th>Df Residuals:</th>          <td>     7</td>      <th>  BIC:               </th> <td>   57.09</td>\n",
       "</tr>\n",
       "<tr>\n",
       "  <th>Df Model:</th>              <td>     1</td>      <th>                     </th>     <td> </td>   \n",
       "</tr>\n",
       "<tr>\n",
       "  <th>Covariance Type:</th>      <td>nonrobust</td>    <th>                     </th>     <td> </td>   \n",
       "</tr>\n",
       "</table>\n",
       "<table class=\"simpletable\">\n",
       "<tr>\n",
       "      <td></td>         <th>coef</th>     <th>std err</th>      <th>t</th>      <th>P>|t|</th>  <th>[0.025</th>    <th>0.975]</th>  \n",
       "</tr>\n",
       "<tr>\n",
       "  <th>Intercept</th> <td>   -0.2221</td> <td>    3.678</td> <td>   -0.060</td> <td> 0.954</td> <td>   -8.919</td> <td>    8.475</td>\n",
       "</tr>\n",
       "<tr>\n",
       "  <th>golesac</th>   <td>    0.8905</td> <td>    0.018</td> <td>   48.854</td> <td> 0.000</td> <td>    0.847</td> <td>    0.934</td>\n",
       "</tr>\n",
       "</table>\n",
       "<table class=\"simpletable\">\n",
       "<tr>\n",
       "  <th>Omnibus:</th>       <td> 0.035</td> <th>  Durbin-Watson:     </th> <td>   0.968</td>\n",
       "</tr>\n",
       "<tr>\n",
       "  <th>Prob(Omnibus):</th> <td> 0.983</td> <th>  Jarque-Bera (JB):  </th> <td>   0.257</td>\n",
       "</tr>\n",
       "<tr>\n",
       "  <th>Skew:</th>          <td>-0.072</td> <th>  Prob(JB):          </th> <td>   0.880</td>\n",
       "</tr>\n",
       "<tr>\n",
       "  <th>Kurtosis:</th>      <td> 2.185</td> <th>  Cond. No.          </th> <td>    434.</td>\n",
       "</tr>\n",
       "</table><br/><br/>Notes:<br/>[1] Standard Errors assume that the covariance matrix of the errors is correctly specified."
      ],
      "text/plain": [
       "<class 'statsmodels.iolib.summary.Summary'>\n",
       "\"\"\"\n",
       "                            OLS Regression Results                            \n",
       "==============================================================================\n",
       "Dep. Variable:             partidosac   R-squared:                       0.997\n",
       "Model:                            OLS   Adj. R-squared:                  0.997\n",
       "Method:                 Least Squares   F-statistic:                     2387.\n",
       "Date:                Fri, 07 Oct 2022   Prob (F-statistic):           3.94e-10\n",
       "Time:                        18:31:30   Log-Likelihood:                -26.350\n",
       "No. Observations:                   9   AIC:                             56.70\n",
       "Df Residuals:                       7   BIC:                             57.09\n",
       "Df Model:                           1                                         \n",
       "Covariance Type:            nonrobust                                         \n",
       "==============================================================================\n",
       "                 coef    std err          t      P>|t|      [0.025      0.975]\n",
       "------------------------------------------------------------------------------\n",
       "Intercept     -0.2221      3.678     -0.060      0.954      -8.919       8.475\n",
       "golesac        0.8905      0.018     48.854      0.000       0.847       0.934\n",
       "==============================================================================\n",
       "Omnibus:                        0.035   Durbin-Watson:                   0.968\n",
       "Prob(Omnibus):                  0.983   Jarque-Bera (JB):                0.257\n",
       "Skew:                          -0.072   Prob(JB):                        0.880\n",
       "Kurtosis:                       2.185   Cond. No.                         434.\n",
       "==============================================================================\n",
       "\n",
       "Notes:\n",
       "[1] Standard Errors assume that the covariance matrix of the errors is correctly specified.\n",
       "\"\"\""
      ]
     },
     "execution_count": 53,
     "metadata": {},
     "output_type": "execute_result"
    }
   ],
   "source": [
    "lm = smf.ols(formula=\"partidosac~golesac\", data= dt).fit()\n",
    "lm.summary() \n",
    "#Validación del modelo con coeficiente de determinación o r cuadrado"
   ]
  },
  {
   "cell_type": "code",
   "execution_count": 38,
   "id": "b0bf852a",
   "metadata": {},
   "outputs": [],
   "source": []
  },
  {
   "cell_type": "code",
   "execution_count": null,
   "id": "a50bcbc4",
   "metadata": {},
   "outputs": [],
   "source": [
    "\n"
   ]
  },
  {
   "cell_type": "code",
   "execution_count": null,
   "id": "09fb0078",
   "metadata": {},
   "outputs": [],
   "source": []
  }
 ],
 "metadata": {
  "kernelspec": {
   "display_name": "Python 3 (ipykernel)",
   "language": "python",
   "name": "python3"
  },
  "language_info": {
   "codemirror_mode": {
    "name": "ipython",
    "version": 3
   },
   "file_extension": ".py",
   "mimetype": "text/x-python",
   "name": "python",
   "nbconvert_exporter": "python",
   "pygments_lexer": "ipython3",
   "version": "3.9.12"
  }
 },
 "nbformat": 4,
 "nbformat_minor": 5
}
